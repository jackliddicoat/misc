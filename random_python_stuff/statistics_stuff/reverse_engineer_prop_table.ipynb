{
 "cells": [
  {
   "cell_type": "code",
   "execution_count": 1,
   "metadata": {},
   "outputs": [],
   "source": [
    "from statsmodels.stats.proportion import proportions_ztest\n",
    "import numpy as np\n",
    "import math"
   ]
  },
  {
   "cell_type": "markdown",
   "metadata": {},
   "source": [
    "Function that reverse engineers prop table"
   ]
  },
  {
   "cell_type": "code",
   "execution_count": 12,
   "metadata": {},
   "outputs": [],
   "source": [
    "def hypothesis_test(prop1, prop2, se1, se2):\n",
    "    n_1 = round((math.sqrt(prop1*(1-prop1))/se1)**2)\n",
    "    n_2 = round((math.sqrt(prop2*(1-prop2))/se2)**2)\n",
    "    cnt_1 = prop1*n_1\n",
    "    cnt_2 = prop2*n_2\n",
    "    counts = np.array([cnt_1, cnt_2])\n",
    "    ns = np.array([n_1, n_2])\n",
    "    stat, pval = proportions_ztest(counts, ns)\n",
    "    print(f\"Z-score: {round(stat, 3)}\")\n",
    "    print(f\"p-value: {round(pval, 3)}\")"
   ]
  },
  {
   "cell_type": "markdown",
   "metadata": {},
   "source": [
    "Example using data from Fryer 2016, Table 6"
   ]
  },
  {
   "cell_type": "code",
   "execution_count": 13,
   "metadata": {},
   "outputs": [
    {
     "name": "stdout",
     "output_type": "stream",
     "text": [
      "For White Civilians\n",
      "--------------------\n",
      "Z-score: 2.453\n",
      "p-value: 0.014\n",
      "--------------------\n",
      "For Black Civilians\n",
      "--------------------\n",
      "Z-score: 1.33\n",
      "p-value: 0.183\n",
      "--------------------\n",
      "For White Officers\n",
      "--------------------\n",
      "Z-score: 0.879\n",
      "p-value: 0.379\n",
      "--------------------\n",
      "For Black Officers\n",
      "--------------------\n",
      "Z-score: -1.142\n",
      "p-value: 0.253\n"
     ]
    }
   ],
   "source": [
    "print(\"For White Civilians\")\n",
    "print(\"--------------------\")\n",
    "hypothesis_test(prop1=0.841, prop2=0.571, se1=0.028, se2=0.137)\n",
    "print(\"--------------------\")\n",
    "print(\"For Black Civilians\")\n",
    "print(\"--------------------\")\n",
    "hypothesis_test(prop1=0.807, prop2=0.730, se1=0.026, se2=0.056)\n",
    "print(\"--------------------\")\n",
    "print(\"For White Officers\")\n",
    "print(\"--------------------\")\n",
    "hypothesis_test(prop1=0.841, prop2=0.807, se1=0.028, se2=0.026)\n",
    "print(\"--------------------\")\n",
    "print(\"For Black Officers\")\n",
    "print(\"--------------------\")\n",
    "hypothesis_test(prop1=0.571, prop2=0.730, se1=0.137, se2=0.056)"
   ]
  }
 ],
 "metadata": {
  "kernelspec": {
   "display_name": "Python 3",
   "language": "python",
   "name": "python3"
  },
  "language_info": {
   "codemirror_mode": {
    "name": "ipython",
    "version": 3
   },
   "file_extension": ".py",
   "mimetype": "text/x-python",
   "name": "python",
   "nbconvert_exporter": "python",
   "pygments_lexer": "ipython3",
   "version": "3.11.4"
  }
 },
 "nbformat": 4,
 "nbformat_minor": 2
}
